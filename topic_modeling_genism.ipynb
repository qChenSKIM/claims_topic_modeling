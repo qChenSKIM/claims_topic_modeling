{
  "cells": [
    {
      "cell_type": "markdown",
      "metadata": {
        "id": "view-in-github",
        "colab_type": "text"
      },
      "source": [
        "<a href=\"https://colab.research.google.com/github/qChenSKIM/claims_topic_modeling/blob/main/topic_modeling_genism.ipynb\" target=\"_parent\"><img src=\"https://colab.research.google.com/assets/colab-badge.svg\" alt=\"Open In Colab\"/></a>"
      ]
    },
    {
      "cell_type": "markdown",
      "id": "9a4131a7-3f35-40f9-8f93-ee8bc02d2efc",
      "metadata": {
        "id": "9a4131a7-3f35-40f9-8f93-ee8bc02d2efc"
      },
      "source": [
        "# Genism: topic modeling \n",
        "https://radimrehurek.com/gensim/index.html\n",
        "\n",
        "https://radimrehurek.com/gensim/models/ldaseqmodel.html"
      ]
    },
    {
      "cell_type": "code",
      "execution_count": 33,
      "id": "138ce9ee-e670-4749-877b-a105ac7c7ccf",
      "metadata": {
        "id": "138ce9ee-e670-4749-877b-a105ac7c7ccf"
      },
      "outputs": [],
      "source": []
    },
    {
      "cell_type": "code",
      "execution_count": 34,
      "id": "78f520e3-dad3-427c-923b-9fa3a7ebfe4c",
      "metadata": {
        "id": "78f520e3-dad3-427c-923b-9fa3a7ebfe4c"
      },
      "outputs": [],
      "source": [
        "import logging\n",
        "logging.basicConfig(format='%(asctime)s : %(levelname)s : %(message)s', level=logging.INFO)\n",
        "\n",
        "from collections import defaultdict\n",
        "from gensim import corpora\n",
        "import pandas as pd"
      ]
    },
    {
      "cell_type": "code",
      "execution_count": 34,
      "id": "3a4cc803-3684-44ed-b829-a5edde3b7574",
      "metadata": {
        "id": "3a4cc803-3684-44ed-b829-a5edde3b7574"
      },
      "outputs": [],
      "source": []
    },
    {
      "cell_type": "code",
      "execution_count": 34,
      "id": "7651a92d-518c-4500-a4c1-56d817c5893b",
      "metadata": {
        "id": "7651a92d-518c-4500-a4c1-56d817c5893b"
      },
      "outputs": [],
      "source": []
    },
    {
      "cell_type": "code",
      "execution_count": 35,
      "id": "7598a320-ed46-4762-a83f-e79accaa0966",
      "metadata": {
        "id": "7598a320-ed46-4762-a83f-e79accaa0966"
      },
      "outputs": [],
      "source": [
        "# input =\".\".join(combined_text_list[0])\n",
        "# print(\"the first cluster:\",input)"
      ]
    },
    {
      "cell_type": "code",
      "execution_count": 35,
      "id": "4b894528-6c26-467b-bbf8-7ccfa00aff90",
      "metadata": {
        "id": "4b894528-6c26-467b-bbf8-7ccfa00aff90"
      },
      "outputs": [],
      "source": []
    },
    {
      "cell_type": "code",
      "execution_count": 36,
      "id": "2dc9c1b7-8e1f-44e9-9516-75f476643ee8",
      "metadata": {
        "id": "2dc9c1b7-8e1f-44e9-9516-75f476643ee8"
      },
      "outputs": [],
      "source": [
        "documents = inputs =['Has a white color',\n",
        "                     'Has a color that matches the taste',\n",
        "       'Interesting shape', 'Looks well stocked', 'Has a soft texture',\n",
        "       'Has smooth edges', 'Feels easy to squeeze',\n",
        "       'Feels comfortable between the gums and lips',\n",
        "       'Provides the same satisfaction as other nicotine products, e.g. cigarettes, vape, snus, heat-not-burn tobacco products, etc',\n",
        "       'More enjoyable to use than other nicotine products, such as cigarettes, vaping, heat-not-burn tobacco products, etc',\n",
        "       ' Provides a pleasant tingling sensation on the gums',\n",
        "       'Does not cause drooling in the mouth or throat',\n",
        "       'Invisible when placed between gums & lips (no protrusion)',\n",
        "       'Spit free No need to spit while using',\n",
        "       'It feels comfortable to talk or laugh while using',\n",
        "       'Remain in position and do not move once placed in the mouth',\n",
        "       'Has less health risks than cigarettes, for example, contains fewer toxins & harmful chemicals',\n",
        "       'Does not cause irritation to the tongue',\n",
        "       'Does not cause irritation to the gums',\n",
        "       'Does not cause throat irritation',\n",
        "       'Made from food-grade ingredients', \n",
        "       'Tobacco free',\n",
        "       'Made of high quality materials',\n",
        "       'Made from natural ingredients',\n",
        "       'Does not disturb others, for example there is no smell of smoke or vape vapor',\n",
        "       'Can be used anytime, anywhere',\n",
        "       'Not messy, unlike snus/snuff or chewing tobacco',\n",
        "       'Easy to use. No matches, macis or charger needed',\n",
        "       'It feels satisfying',\n",
        "      'It feels like it lasts a long time',\n",
        "       'Has a delicious aftertaste in the mouth',\n",
        "       'The smell is delicious', 'Releases long-lasting nicotine',\n",
        "       'Get rid of nicotine straight away',\n",
        "       'Has varying levels of nicotine',\n",
        "       'Delivers nicotine through absorption. No need to suck or chew',\n",
        "       'Does not stain teeth or fingers like cigarettes',\n",
        "       'Does not leave a smoky or unpleasant odor on hair or clothes like cigarettes',\n",
        "       'Does not cause breath smell like cigarettes',\n",
        "       'Does not cause premature skin aging like cigarettes',\n",
        "       'Environmentally friendly, for example 100% biodegradable',\n",
        "       'The cans are made of 100% recyclable and recyclable plastic',\n",
        "       'The cans are made of environmentally friendly materials, such as paper/pulp',\n",
        "       'Made in an environmentally friendly way', 'The shape is slim',\n",
        "       'Mini shape', 'Moist texture', 'The texture is dry',\n",
        "       'Can be used at any time, for example after waking up, while traveling, at work, etc',\n",
        "       'Suitable for socializing moments, for example with adult friends, family, or coworkers',\n",
        "       'Can be used without having to take special time, for example, no need to take a break to smoke',\n",
        "       'Comes in various flavors that suit certain moments, for example the taste of coffee after coffee',\n",
        "       'Made by experts, for example taste experts',\n",
        "       'Made in Indonesia',\n",
        "       'Made in the Nordic region, for example Sweden or Denmark',\n",
        "       'Undergo rigorous scientific testing',\n",
        "       'Comes from a trusted and well-known brand',\n",
        "       'Comes from the best selling brand',\n",
        "       'Comes from a premium brand',\n",
        "       'Coming from a brand I can understand/feel familiar with',\n",
        "       ' No need to inhale smoke or vape (unlike, for example, cigarettes/heat-not-burn or vaping products',\n",
        "       'Does not stick between gums & lips when removed',\n",
        "       'Can be placed in different locations between the gums & lips',\n",
        "       'Easy to take out of the can',\n",
        "       'Has a variety of different flavors', 'Has an intense taste',\n",
        "       'It tastes sweet',\n",
        "       'Has a cool/refreshing taste, like mint or menthol',\n",
        "       'Offers a cleaner experience than cigarettes, e.g. without fire, ash, smoke or unpleasant odors',\n",
        "       'Can be disposed of in the disposal container at the top of the can lid',\n",
        "       'Each one is wrapped in paper',\n",
        "       'Has a paper slip that can be used to dispose of used bags',\n",
        "       \"Doesn't make me feel judged by others (compared to eg cigarettes)\",\n",
        "       'Is an alternative to nicotine products that makes me feel socially acceptable',\n",
        "       'Is an alternative to nicotine products that makes me feel that I am making a better choice',\n",
        "       'Is an alternative to nicotine products that makes me feel progressive & modern',\n",
        "       'The can is easy to open & close',\n",
        "       'The can feels durable & sturdy',\n",
        "       ' The nicotine bag looks neat & organized when I open the can',\n",
        "       'The can keeps the nicotine pouch fresh over time']"
      ]
    },
    {
      "cell_type": "code",
      "execution_count": 36,
      "id": "f68a81fb-6668-4d81-94a5-bab9b677a040",
      "metadata": {
        "id": "f68a81fb-6668-4d81-94a5-bab9b677a040"
      },
      "outputs": [],
      "source": []
    },
    {
      "cell_type": "code",
      "execution_count": 36,
      "id": "f9b5f665-07dc-4735-bf7a-f839cac50c38",
      "metadata": {
        "id": "f9b5f665-07dc-4735-bf7a-f839cac50c38"
      },
      "outputs": [],
      "source": []
    },
    {
      "cell_type": "code",
      "execution_count": 37,
      "id": "848ce397-cd60-4c08-a6a2-e96dc23c9b9a",
      "metadata": {
        "id": "848ce397-cd60-4c08-a6a2-e96dc23c9b9a"
      },
      "outputs": [],
      "source": [
        "# remove common words and tokenize\n",
        "stoplist = set('for a of the and to in'.split())\n",
        "texts = [\n",
        "    [word for word in document.lower().split() if word not in stoplist]\n",
        "    for document in documents\n",
        "]"
      ]
    },
    {
      "cell_type": "code",
      "execution_count": 38,
      "id": "b8aff7d2-1757-4e91-8780-6759bdfef943",
      "metadata": {
        "id": "b8aff7d2-1757-4e91-8780-6759bdfef943"
      },
      "outputs": [],
      "source": [
        "# remove words that appear only once\n",
        "frequency = defaultdict(int)\n",
        "for text in texts:\n",
        "    for token in text:\n",
        "        frequency[token] += 1\n",
        "\n",
        "texts = [\n",
        "    [token for token in text if frequency[token] > 1]\n",
        "    for text in texts\n",
        "]\n",
        "\n",
        "dictionary = corpora.Dictionary(texts)\n",
        "corpus = [dictionary.doc2bow(text) for text in texts]"
      ]
    },
    {
      "cell_type": "markdown",
      "id": "f89bfc14-262b-4dec-949f-13553ee3a74b",
      "metadata": {
        "id": "f89bfc14-262b-4dec-949f-13553ee3a74b"
      },
      "source": [
        "Term Frequency * Inverse Document Frequency, Tf-Idf expects a bag-of-words (integer values) training corpus during initialization. During transformation, it will take a vector and return another vector of the same dimensionality, except that features which were rare in the training corpus will have their value increased. It therefore converts integer-valued vectors into real-valued ones, while leaving the number of dimensions intact. It can also optionally normalize the resulting vectors to (Euclidean) unit length."
      ]
    },
    {
      "cell_type": "code",
      "execution_count": 39,
      "id": "9c3b276a-bd05-4bf1-b794-d0c82d59dd5a",
      "metadata": {
        "id": "9c3b276a-bd05-4bf1-b794-d0c82d59dd5a"
      },
      "outputs": [],
      "source": [
        "from gensim import models\n",
        "\n",
        "tp_model = models.TfidfModel(corpus)  # step 1 -- initialize a model"
      ]
    },
    {
      "cell_type": "code",
      "execution_count": 39,
      "id": "3275550d-03ba-4a69-a379-3b79569db70c",
      "metadata": {
        "id": "3275550d-03ba-4a69-a379-3b79569db70c"
      },
      "outputs": [],
      "source": []
    },
    {
      "cell_type": "markdown",
      "id": "60f544db-8d1e-44d4-b21e-93efb30d5344",
      "metadata": {
        "id": "60f544db-8d1e-44d4-b21e-93efb30d5344"
      },
      "source": [
        "Latent Semantic Indexing, LSI (or sometimes LSA) transforms documents from either bag-of-words or (preferrably) TfIdf-weighted space into a latent space of a lower dimensionality. For the toy corpus above we used only 2 latent dimensions, but on real corpora, target dimensionality of 200–500 is recommended as a “golden standard” 1"
      ]
    },
    {
      "cell_type": "code",
      "execution_count": 40,
      "id": "af20e7d0-cf0d-4c07-b5ee-eff327b214c8",
      "metadata": {
        "id": "af20e7d0-cf0d-4c07-b5ee-eff327b214c8"
      },
      "outputs": [],
      "source": [
        "# tp_model = models.LsiModel(tfidf_corpus, id2word=dictionary, num_topics=300)"
      ]
    },
    {
      "cell_type": "markdown",
      "id": "2071aa4e-0536-4b8b-969f-2bd6f428e900",
      "metadata": {
        "id": "2071aa4e-0536-4b8b-969f-2bd6f428e900"
      },
      "source": [
        "Random Projections, RP aim to reduce vector space dimensionality. This is a very efficient (both memory- and CPU-friendly) approach to approximating TfIdf distances between documents, by throwing in a little randomness. Recommended target dimensionality is again in the hundreds/thousands, depending on your dataset."
      ]
    },
    {
      "cell_type": "code",
      "execution_count": 41,
      "id": "61d3e414-6f94-4188-bf91-3e063fb399c0",
      "metadata": {
        "id": "61d3e414-6f94-4188-bf91-3e063fb399c0"
      },
      "outputs": [],
      "source": [
        "# tp_model = models.RpModel(tfidf_corpus, num_topics=500)"
      ]
    },
    {
      "cell_type": "markdown",
      "id": "35d38852-0929-414d-bb89-fee9bda13c78",
      "metadata": {
        "id": "35d38852-0929-414d-bb89-fee9bda13c78"
      },
      "source": [
        "Latent Dirichlet Allocation, LDA is yet another transformation from bag-of-words counts into a topic space of lower dimensionality. LDA is a probabilistic extension of LSA (also called multinomial PCA), so LDA’s topics can be interpreted as probability distributions over words. These distributions are, just like with LSA, inferred automatically from a training corpus. Documents are in turn interpreted as a (soft) mixture of these topics (again, just like with LSA).\n",
        "\n"
      ]
    },
    {
      "cell_type": "code",
      "execution_count": 42,
      "id": "308d5778-fb87-42a3-a81c-206c5ac377a3",
      "metadata": {
        "id": "308d5778-fb87-42a3-a81c-206c5ac377a3"
      },
      "outputs": [],
      "source": [
        "# tp_model = models.LdaModel(corpus, id2word=dictionary, num_topics=100)"
      ]
    },
    {
      "cell_type": "markdown",
      "id": "6ebb700b-f0a3-4c6d-8dba-390513e523ff",
      "metadata": {
        "id": "6ebb700b-f0a3-4c6d-8dba-390513e523ff"
      },
      "source": [
        "Hierarchical Dirichlet Process, HDP is a non-parametric bayesian method (note the missing number of requested topics):"
      ]
    },
    {
      "cell_type": "code",
      "execution_count": 43,
      "id": "b0975dfa-c0e2-48bf-a74c-16e1320569dc",
      "metadata": {
        "id": "b0975dfa-c0e2-48bf-a74c-16e1320569dc"
      },
      "outputs": [],
      "source": [
        "# tp_model = models.HdpModel(corpus, id2word=dictionary)"
      ]
    },
    {
      "cell_type": "code",
      "execution_count": 43,
      "id": "139fc4d5-31d6-4e0e-99a4-8f9056636174",
      "metadata": {
        "id": "139fc4d5-31d6-4e0e-99a4-8f9056636174"
      },
      "outputs": [],
      "source": []
    },
    {
      "cell_type": "code",
      "execution_count": 44,
      "id": "56df15fc-0b3f-400e-89aa-b36736d59fe8",
      "metadata": {
        "colab": {
          "base_uri": "https://localhost:8080/"
        },
        "id": "56df15fc-0b3f-400e-89aa-b36736d59fe8",
        "outputId": "21a8ae7e-4953-492e-f9d4-72118747ac4c"
      },
      "outputs": [
        {
          "output_type": "stream",
          "name": "stdout",
          "text": [
            "[(0, 0.8806890932176118), (1, 0.4736947551826392)]\n"
          ]
        }
      ],
      "source": [
        "doc_bow = [(0, 1), (1, 1)]\n",
        "print(tp_model[doc_bow])  # step 2 -- use the model to transform vectors"
      ]
    },
    {
      "cell_type": "code",
      "execution_count": 45,
      "id": "7598be80-e6f2-4111-8113-11c52528ac97",
      "metadata": {
        "id": "7598be80-e6f2-4111-8113-11c52528ac97"
      },
      "outputs": [],
      "source": [
        "corpus_tfidf = tp_model[corpus]\n",
        "# for doc in corpus_tfidf:\n",
        "#     print(doc)"
      ]
    },
    {
      "cell_type": "code",
      "execution_count": 46,
      "id": "ccbf327d-f1d3-4e98-b0a7-3e7ede0ae361",
      "metadata": {
        "colab": {
          "base_uri": "https://localhost:8080/"
        },
        "id": "ccbf327d-f1d3-4e98-b0a7-3e7ede0ae361",
        "outputId": "37272c16-3437-447a-9c0f-a053a3b91169"
      },
      "outputs": [
        {
          "output_type": "execute_result",
          "data": {
            "text/plain": [
              "[(0,\n",
              "  '0.392*\"not\" + 0.369*\"does\" + 0.347*\"or\" + 0.300*\"cause\" + 0.287*\"like\" + 0.246*\"cigarettes\" + 0.213*\"has\" + 0.186*\"irritation\" + 0.181*\"nicotine\" + 0.126*\"gums\"'),\n",
              " (1,\n",
              "  '-0.463*\"nicotine\" + -0.387*\"has\" + 0.237*\"not\" + 0.235*\"does\" + 0.227*\"cause\" + -0.198*\"can\" + -0.189*\"that\" + -0.170*\"an\" + -0.158*\"is\" + 0.154*\"cigarettes\"'),\n",
              " (2,\n",
              "  '0.644*\"made\" + 0.436*\"from\" + 0.296*\"brand\" + 0.264*\"comes\" + 0.257*\"ingredients\" + -0.187*\"nicotine\" + 0.171*\"example\" + -0.166*\"has\" + 0.095*\"environmentally\" + 0.079*\"friendly\"'),\n",
              " (3,\n",
              "  '-0.380*\"can\" + 0.367*\"has\" + -0.352*\"feels\" + -0.261*\"&\" + -0.259*\"it\" + -0.215*\"easy\" + -0.199*\"between\" + -0.199*\"lips\" + -0.195*\"be\" + -0.189*\"gums\"'),\n",
              " (4,\n",
              "  '0.439*\"made\" + -0.438*\"brand\" + -0.386*\"comes\" + -0.381*\"from\" + 0.212*\"or\" + -0.188*\"has\" + 0.184*\"example\" + 0.184*\"it\" + 0.148*\"feels\" + 0.123*\"no\"')]"
            ]
          },
          "metadata": {},
          "execution_count": 46
        }
      ],
      "source": [
        "lsi_model = models.LsiModel(corpus_tfidf, id2word=dictionary, num_topics=5)  # initialize an LSI transformation\n",
        "corpus_lsi = lsi_model[corpus_tfidf]  # create a double wrapper over the original corpus: bow->tfidf->fold-in-lsi\n",
        "\n",
        "lsi_model.print_topics(5)"
      ]
    },
    {
      "cell_type": "code",
      "execution_count": 47,
      "id": "d78cb5c6-107a-46b3-87e7-f2af234530dd",
      "metadata": {
        "id": "d78cb5c6-107a-46b3-87e7-f2af234530dd"
      },
      "outputs": [],
      "source": [
        "# both bow->tfidf and tfidf->lsi transformations are actually executed here, on the fly\n",
        "# for doc, as_text in zip(corpus_lsi, documents):\n",
        "#     print(doc, as_text)"
      ]
    },
    {
      "cell_type": "code",
      "execution_count": 48,
      "id": "83105800-cca5-4492-880e-baec59cd9f86",
      "metadata": {
        "colab": {
          "base_uri": "https://localhost:8080/"
        },
        "id": "83105800-cca5-4492-880e-baec59cd9f86",
        "outputId": "7eb89158-3540-4c7c-e8aa-2cf0cc94be1e"
      },
      "outputs": [
        {
          "output_type": "execute_result",
          "data": {
            "text/plain": [
              "[(0,\n",
              "  '0.082*open + 0.056*when + 0.054*unpleasant + 0.043*comfortable + 0.035*products, + 0.031*like + 0.030*nicotine + 0.027*than + 0.025*no + 0.023*are'),\n",
              " (1,\n",
              "  '0.063*smoke + 0.059*using + 0.051*made + 0.049*brand + 0.041*between + 0.040*comes + 0.029*& + 0.027*color + 0.027*example + 0.026*mouth'),\n",
              " (2,\n",
              "  '0.063*feel + 0.056*does + 0.044*other + 0.039*between + 0.038*texture + 0.035*taste + 0.034*need + 0.029*without + 0.028*cause + 0.025*such'),\n",
              " (3,\n",
              "  '0.048*such + 0.042*cigarettes, + 0.040*smoke + 0.035*easy + 0.032*looks + 0.032*me + 0.032*100% + 0.032*taste + 0.031*that + 0.026*are'),\n",
              " (4,\n",
              "  '0.065*shape + 0.057*or + 0.053*at + 0.048*environmentally + 0.036*than + 0.031*other + 0.028*coffee + 0.027*vape + 0.025*on + 0.025*friendly')]"
            ]
          },
          "metadata": {},
          "execution_count": 48
        }
      ],
      "source": [
        "test_model = models.HdpModel(corpus, id2word=dictionary)\n",
        "test_model.print_topics(5)"
      ]
    },
    {
      "cell_type": "code",
      "execution_count": 51,
      "id": "ee9402bc-da33-4cbb-9154-a1419bef75fc",
      "metadata": {
        "id": "ee9402bc-da33-4cbb-9154-a1419bef75fc"
      },
      "outputs": [],
      "source": [
        "# corpus_tfidf = tp_model[corpus]\n",
        "# for doc in corpus_tfidf:\n",
        "#     print(doc)"
      ]
    },
    {
      "cell_type": "markdown",
      "source": [
        "## how each doc distributes acorss topics"
      ],
      "metadata": {
        "id": "OLwQ_tIQ9VsH"
      },
      "id": "OLwQ_tIQ9VsH"
    },
    {
      "cell_type": "code",
      "source": [
        "# both bow->tfidf and tfidf->lsi transformations are actually executed here, on the fly\n",
        "for doc, as_text in zip(corpus_lsi, documents):\n",
        "    print(doc, as_text)"
      ],
      "metadata": {
        "colab": {
          "base_uri": "https://localhost:8080/"
        },
        "id": "6_SHhnpE5HfQ",
        "outputId": "40c67274-dd89-4d6c-9a9b-2c36d0382f18"
      },
      "id": "6_SHhnpE5HfQ",
      "execution_count": 50,
      "outputs": [
        {
          "output_type": "stream",
          "name": "stdout",
          "text": [
            "[(0, 0.13764681653012198), (1, -0.2765318206592029), (2, -0.11190312307773062), (3, 0.2757158753677313), (4, -0.14015856849602426)] Has a white color\n",
            "[(0, 0.15615051160625396), (1, -0.34931898059850175), (2, -0.08188315949232393), (3, 0.28209318068570494), (4, -0.10849360416690498)] Has a color that matches the taste\n",
            "[(0, 0.017424086818623594), (1, -0.04210946607708844), (2, -0.019466842706042518), (3, 0.0002593820468874149), (4, 0.002125834554148545)] Interesting shape\n",
            "[(0, 0.018646437843185787), (1, -0.040654206093178546), (2, -0.014753481217476829), (3, -0.05283213424125874), (4, -0.012822187426571341)] Looks well stocked\n",
            "[(0, 0.15176118378698406), (1, -0.30508508042483345), (2, -0.1397703799027402), (3, 0.3025816714136205), (4, -0.17613632159060616)] Has a soft texture\n",
            "[(0, 0.2128637272991892), (1, -0.38739851017306337), (2, -0.16592700140183914), (3, 0.36706822563297975), (4, -0.18752088078806706)] Has smooth edges\n",
            "[(0, 0.11550914281872517), (1, -0.09891670627700631), (2, -0.036901296634015444), (3, -0.3928065440570805), (4, 0.1836573497387633)] Feels easy to squeeze\n",
            "[(0, 0.16976073382426757), (1, -0.022579380643193113), (2, -0.06316591374245888), (3, -0.44636510888865755), (4, 0.041347603210253575)] Feels comfortable between the gums and lips\n",
            "[(0, 0.09240077170758798), (1, -0.13806774520510956), (2, -0.04219468607247395), (3, 0.02811646410464555), (4, 0.03900111666472882)] Provides the same satisfaction as other nicotine products, e.g. cigarettes, vape, snus, heat-not-burn tobacco products, etc\n",
            "[(0, 0.09377558421469757), (1, -0.15019820173227874), (2, -0.035990188867664245), (3, 0.03670853995672307), (4, 0.04717496203291106)] More enjoyable to use than other nicotine products, such as cigarettes, vaping, heat-not-burn tobacco products, etc\n",
            "[(0, 0.10836462747525905), (1, 0.03082384243733275), (2, -0.01987319779205101), (3, -0.09550514687278623), (4, -0.01650803830810941)]  Provides a pleasant tingling sensation on the gums\n",
            "[(0, 0.571519477294614), (1, 0.3044876406752886), (2, -0.002078373448160152), (3, 0.0869673407604592), (4, -0.07436803903472332)] Does not cause drooling in the mouth or throat\n",
            "[(0, 0.2077447978086174), (1, -0.0449636529423938), (2, -0.08628691355892018), (3, -0.4343204586556081), (4, -0.07012273481960767)] Invisible when placed between gums & lips (no protrusion)\n",
            "[(0, 0.07009426546375863), (1, -0.04064613451355837), (2, -0.0028294163569252627), (3, -0.04947626648401168), (4, 0.09755092649532837)] Spit free No need to spit while using\n",
            "[(0, 0.17686101279603678), (1, -0.042647773851805584), (2, -0.008413501467459597), (3, -0.3081905872340124), (4, 0.23668144126309137)] It feels comfortable to talk or laugh while using\n",
            "[(0, 0.26209795984800427), (1, 0.10931284410547547), (2, -0.032414195816232436), (3, -0.04180049205683158), (4, -0.0790514567401575)] Remain in position and do not move once placed in the mouth\n",
            "[(0, 0.16598955273908822), (1, -0.23225005035895807), (2, -0.09718150704163302), (3, 0.021676422287579187), (4, -0.0383177241688906)] Has less health risks than cigarettes, for example, contains fewer toxins & harmful chemicals\n",
            "[(0, 0.5755814930316167), (1, 0.40242534408201497), (2, -0.023728057298461138), (3, 0.054227482637088854), (4, -0.16739897103099688)] Does not cause irritation to the tongue\n",
            "[(0, 0.5695009342292601), (1, 0.37356217765214766), (2, -0.03734637159026862), (3, -0.03792846085566888), (4, -0.16998226197634972)] Does not cause irritation to the gums\n",
            "[(0, 0.536007132616787), (1, 0.3775972017842243), (2, -0.02117294744028366), (3, 0.057161412411504714), (4, -0.15941969291057442)] Does not cause throat irritation\n",
            "[(0, 0.0766199603423025), (1, -0.1557437940792516), (2, 0.6958079333025688), (3, 0.006038140949514492), (4, -0.008278328772582583)] Made from food-grade ingredients\n",
            "[(0, 0.05479774270644763), (1, 0.00114934991351095), (2, 0.0008598760945918792), (3, 0.009780788553736392), (4, 0.03507440720015953)] Tobacco free\n",
            "[(0, 0.10020937223556457), (1, -0.14877019162851546), (2, 0.6444693470284544), (3, 0.12255414237803562), (4, 0.4389389731993956)] Made of high quality materials\n",
            "[(0, 0.0766199603423025), (1, -0.1557437940792516), (2, 0.6958079333025688), (3, 0.006038140949514492), (4, -0.008278328772582583)] Made from natural ingredients\n",
            "[(0, 0.4766038836018653), (1, 0.05313088893838973), (2, 0.055980582664809736), (3, 0.04750848451559587), (4, 0.15926103536231287)] Does not disturb others, for example there is no smell of smoke or vape vapor\n",
            "[(0, 0.10796582833554122), (1, -0.21420297223164197), (2, -0.046779385439264), (3, -0.3701057062088643), (4, -0.014642126071370361)] Can be used anytime, anywhere\n",
            "[(0, 0.39856378090053124), (1, 0.12331701395492413), (2, 0.03227494059386477), (3, 0.060038700703582366), (4, 0.09130775416095624)] Not messy, unlike snus/snuff or chewing tobacco\n",
            "[(0, 0.2701576507700594), (1, -0.07984090849261814), (2, 0.021167545927352076), (3, -0.13406743271674335), (4, 0.24011300643746103)] Easy to use. No matches, macis or charger needed\n",
            "[(0, 0.10746044469014945), (1, -0.05950731644422398), (2, -0.0420791938138884), (3, -0.4263358209423837), (4, 0.23612405914426332)] It feels satisfying\n",
            "[(0, 0.19219562896470524), (1, -0.032295635329246786), (2, -0.04899037851243969), (3, -0.32320756598561723), (4, 0.2013503603089992)] It feels like it lasts a long time\n",
            "[(0, 0.1736043419853671), (1, -0.14856430319753494), (2, -0.0891601588661423), (3, 0.19078721568690404), (4, -0.12035199019778647)] Has a delicious aftertaste in the mouth\n",
            "[(0, 0.13800339141112083), (1, -0.061974871319287445), (2, -0.039021220594970506), (3, 0.04861150078688314), (4, -0.01734548784752369)] The smell is delicious\n",
            "[(0, 0.18062703551689216), (1, -0.46267954093659563), (2, -0.18680515732244665), (3, 0.09814368289133665), (4, -0.02123113467137793)] Releases long-lasting nicotine\n",
            "[(0, 0.18062703551689216), (1, -0.46267954093659563), (2, -0.18680515732244665), (3, 0.09814368289133665), (4, -0.02123113467137793)] Get rid of nicotine straight away\n",
            "[(0, 0.2782399867215185), (1, -0.6010959544774845), (2, -0.24941930137651214), (3, 0.32895449520627995), (4, -0.14760996571773255)] Has varying levels of nicotine\n",
            "[(0, 0.3134439327438572), (1, -0.2507500227075367), (2, -0.05258028573742252), (3, 0.04641182486509539), (4, 0.18418279094425866)] Delivers nicotine through absorption. No need to suck or chew\n",
            "[(0, 0.6981025643770689), (1, 0.3310447984118476), (2, 0.010425046228306811), (3, 0.11922125025597134), (4, 0.006759703537326646)] Does not stain teeth or fingers like cigarettes\n",
            "[(0, 0.591232691540355), (1, 0.24142733267005895), (2, 0.026329963672227313), (3, 0.09793191182827968), (4, 0.06554630256136044)] Does not leave a smoky or unpleasant odor on hair or clothes like cigarettes\n",
            "[(0, 0.6474554368644861), (1, 0.375918374775744), (2, -0.021144588555690614), (3, 0.10960343127449229), (4, -0.09660807690112308)] Does not cause breath smell like cigarettes\n",
            "[(0, 0.6845991921706335), (1, 0.4138138042235112), (2, -0.022943669886036282), (3, 0.11042717071607974), (4, -0.1136313571052054)] Does not cause premature skin aging like cigarettes\n",
            "[(0, 0.061298697131356876), (1, -0.05180329268294517), (2, 0.16181972815014464), (3, 0.04365294706032123), (4, 0.17912526850636643)] Environmentally friendly, for example 100% biodegradable\n",
            "[(0, 0.030495770593605826), (1, -0.047843965083284035), (2, 0.2047921420126979), (3, 0.0436147873671542), (4, 0.16752648620000019)] The cans are made of 100% recyclable and recyclable plastic\n",
            "[(0, 0.04985666834566), (1, -0.0880726077304389), (2, 0.2795272605500361), (3, 0.07091061563365769), (4, 0.2430290156061764)] The cans are made of environmentally friendly materials, such as paper/pulp\n",
            "[(0, 0.0815876985556384), (1, -0.16893452019128868), (2, 0.33143568295287446), (3, 0.11516093692551724), (4, 0.27576196494704514)] Made in an environmentally friendly way\n",
            "[(0, 0.06886604113272096), (1, -0.1225072128357139), (2, -0.04657176452937208), (3, 0.0005175141247041966), (4, 0.0033424920379494056)] The shape is slim\n",
            "[(0, 0.017424086818623594), (1, -0.04210946607708844), (2, -0.019466842706042518), (3, 0.0002593820468874149), (4, 0.002125834554148545)] Mini shape\n",
            "[(0, 0.048686981386113014), (1, -0.12236160266887013), (2, -0.06304024159375747), (3, 0.13172198088834555), (4, -0.09248136718384346)] Moist texture\n",
            "[(0, 0.09489348146650342), (1, -0.18931989047476006), (2, -0.08284812522405546), (3, 0.10996467168343582), (4, -0.07542127352016248)] The texture is dry\n",
            "[(0, 0.09841499403865685), (1, -0.15512224476200961), (2, 0.019841072536905587), (3, -0.25119704745996574), (4, 0.0623474451740465)] Can be used at any time, for example after waking up, while traveling, at work, etc\n",
            "[(0, 0.17726783664599613), (1, -0.04490601463201163), (2, 0.15799749951589137), (3, 0.019450093753733622), (4, 0.11722417883660942)] Suitable for socializing moments, for example with adult friends, family, or coworkers\n",
            "[(0, 0.14884583549229075), (1, -0.16739320961155452), (2, -0.0284228112605779), (3, -0.24254906206402138), (4, 0.1002659393103557)] Can be used without having to take special time, for example, no need to take a break to smoke\n",
            "[(0, 0.07380897559748986), (1, -0.13454060177294153), (2, 0.1286221329336801), (3, 0.035315670422499584), (4, -0.07813249856870944)] Comes in various flavors that suit certain moments, for example the taste of coffee after coffee\n",
            "[(0, 0.12011284970962609), (1, -0.1745703423949718), (2, 0.375236807592376), (3, 0.14464849190936768), (4, 0.29272638940046997)] Made by experts, for example taste experts\n",
            "[(0, 0.10020937223556457), (1, -0.14877019162851546), (2, 0.6444693470284544), (3, 0.12255414237803562), (4, 0.4389389731993956)] Made in Indonesia\n",
            "[(0, 0.2910823815086896), (1, -0.1142761047053472), (2, 0.5256933833442192), (3, 0.13059491977118684), (4, 0.47889960516500973)] Made in the Nordic region, for example Sweden or Denmark\n",
            "[] Undergo rigorous scientific testing\n",
            "[(0, 0.04055238469005122), (1, -0.13710726760080258), (2, 0.5658018400056449), (3, -0.16498820237618092), (4, -0.6958733542264682)] Comes from a trusted and well-known brand\n",
            "[(0, 0.04055238469005122), (1, -0.13710726760080258), (2, 0.5658018400056449), (3, -0.16498820237618092), (4, -0.6958733542264682)] Comes from the best selling brand\n",
            "[(0, 0.04055238469005122), (1, -0.13710726760080258), (2, 0.5658018400056449), (3, -0.16498820237618092), (4, -0.6958733542264682)] Comes from a premium brand\n",
            "[(0, 0.0849309107081042), (1, -0.1903602093498811), (2, 0.34867854390748815), (3, -0.2459863279834281), (4, -0.41630374727471053)] Coming from a brand I can understand/feel familiar with\n",
            "[(0, 0.30382740409418196), (1, -0.09842660263731035), (2, 0.02113418667057642), (3, 0.022814404199302057), (4, 0.21800924002350264)]  No need to inhale smoke or vape (unlike, for example, cigarettes/heat-not-burn or vaping products\n",
            "[(0, 0.3988651223291196), (1, 0.08849278365234926), (2, -0.08326693018197219), (3, -0.3745334371973554), (4, -0.0962014564738451)] Does not stick between gums & lips when removed\n",
            "[(0, 0.21436277432019252), (1, -0.1278432360220913), (2, -0.09156341141226063), (3, -0.5035163979429456), (4, -0.0701716411235714)] Can be placed in different locations between the gums & lips\n",
            "[(0, 0.10835336280338016), (1, -0.1541675519477064), (2, -0.029207696362763744), (3, -0.34581685250301364), (4, 0.08775508078812616)] Easy to take out of the can\n",
            "[(0, 0.10869944093064401), (1, -0.1901376878899097), (2, -0.07615447534799334), (3, 0.11915247858097928), (4, -0.10573524344198879)] Has a variety of different flavors\n",
            "[(0, 0.1632761295138686), (1, -0.3532918774876207), (2, -0.047063403148048355), (3, 0.2865777614416528), (4, -0.057866195211365906)] Has an intense taste\n",
            "[(0, 0.06913999146453483), (1, -0.025228117139051886), (2, -0.024123942175532688), (3, -0.25889218657134344), (4, 0.18389874643167237)] It tastes sweet\n",
            "[(0, 0.48108600681358865), (1, -0.12125206902552702), (2, -0.06107295265852717), (3, 0.2816010220299704), (4, 0.0036050071306043393)] Has a cool/refreshing taste, like mint or menthol\n",
            "[(0, 0.1711441252268115), (1, -0.036042762491025726), (2, 0.007934588951643678), (3, 0.018198103854974598), (4, 0.1005736140141378)] Offers a cleaner experience than cigarettes, e.g. without fire, ash, smoke or unpleasant odors\n",
            "[(0, 0.10514637088262153), (1, -0.20267549022290607), (2, -0.033555188326896995), (3, -0.4014902633953763), (4, -0.007708054660452909)] Can be disposed of in the disposal container at the top of the can lid\n",
            "[(0, 0.07099090802033667), (1, -0.1299591496980066), (2, -0.045438583694129446), (3, -0.01893383119846323), (4, -0.00802973702301358)] Each one is wrapped in paper\n",
            "[(0, 0.15462996435679843), (1, -0.3246259152639068), (2, -0.09584491032315302), (3, -0.14893808225884353), (4, -0.06720889270874644)] Has a paper slip that can be used to dispose of used bags\n",
            "[(0, 0.060088516454474175), (1, -0.17518512783858892), (2, 0.005923343296170242), (3, 0.055192830634059054), (4, 0.05260328590148913)] Doesn't make me feel judged by others (compared to eg cigarettes)\n",
            "[(0, 0.18934197848733306), (1, -0.4939464749749092), (2, -0.13339166893311571), (3, 0.11401586259495451), (4, 0.00949154182938339)] Is an alternative to nicotine products that makes me feel socially acceptable\n",
            "[(0, 0.1857735841588291), (1, -0.48890544056851704), (2, -0.1152899688649895), (3, 0.08855438261706969), (4, -0.022849101646826703)] Is an alternative to nicotine products that makes me feel that I am making a better choice\n",
            "[(0, 0.21201036873626639), (1, -0.5087678234422336), (2, -0.14562658298997266), (3, 0.04155022115489898), (4, 0.006009770222133852)] Is an alternative to nicotine products that makes me feel progressive & modern\n",
            "[(0, 0.17189181478779222), (1, -0.24514270564527516), (2, -0.07740762131237348), (3, -0.38946375796536836), (4, 0.0474791366528898)] The can is easy to open & close\n",
            "[(0, 0.16979733046641457), (1, -0.207111982284992), (2, -0.07702896579481855), (3, -0.565493999016525), (4, 0.08133242497699927)] The can feels durable & sturdy\n",
            "[(0, 0.17023511622204346), (1, -0.2960339030834024), (2, -0.09392151051057747), (3, -0.2991583948939611), (4, -0.06299947149191579)]  The nicotine bag looks neat & organized when I open the can\n",
            "[(0, 0.15254078396539272), (1, -0.33260314926704554), (2, -0.1175393872848659), (3, -0.1788398404278032), (4, 0.007291186445181164)] The can keeps the nicotine pouch fresh over time\n"
          ]
        }
      ]
    },
    {
      "cell_type": "code",
      "source": [],
      "metadata": {
        "id": "opRQ0dVS587T"
      },
      "id": "opRQ0dVS587T",
      "execution_count": 50,
      "outputs": []
    }
  ],
  "metadata": {
    "kernelspec": {
      "display_name": "Python 3 (ipykernel)",
      "language": "python",
      "name": "python3"
    },
    "language_info": {
      "codemirror_mode": {
        "name": "ipython",
        "version": 3
      },
      "file_extension": ".py",
      "mimetype": "text/x-python",
      "name": "python",
      "nbconvert_exporter": "python",
      "pygments_lexer": "ipython3",
      "version": "3.10.6"
    },
    "colab": {
      "provenance": [],
      "collapsed_sections": [],
      "include_colab_link": true
    }
  },
  "nbformat": 4,
  "nbformat_minor": 5
}